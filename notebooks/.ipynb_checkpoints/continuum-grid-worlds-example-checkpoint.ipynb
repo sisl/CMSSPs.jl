{
 "cells": [
  {
   "cell_type": "markdown",
   "metadata": {},
   "source": [
    "# Introduction\n",
    "\n",
    "This notebook is meant to walk you through the various components of using the Hybrid Stochastic Planning framework to solve Dynamic Multimodal Stochastic Shortest Path problems (called CMSSPs here). You will observe how to obtain policies for the local layer MDPs, and how to use them in conjunction with the overall HSP solver (HHPC here).\n",
    "\n",
    "We will use a simple toy domain for illustrative purposes, different from the domain in the paper. There are 4 gridworlds numbered 1 through 4 and connected to each other as follows: 1 -> 2, 1 -> 3, 2 -> 4, 3 ->4. Each gridworld is a 1 x 1 continuous grid (see [ContinuumWorld.jl](https://github.com/JuliaPOMDP/ContinuumWorld.jl) for how it works). The agent begins in grid 1 and must reach any state in grid 4 to succeed.\n",
    "\n",
    "Each grid world that is the source of a possible switch to another grid has a sub-region where the mode switch is valid. At any timestep, the context comprises a single point in each respective switch region, around which the switch is currently possible, e.g. (1,2) -> [0.34,0.56] (in grid 1); (1,3) -> [0.67,0..25] (in grid 1); (2,3) -> [0.4,0.7] (in grid 2) and so on. The future context is the estimated positions of the switch points over the next few timesteps, up to the context horizon. When the agent attempts a mode switch, it must be close to the valid switch point for that timestep.\n",
    "\n",
    "## DMSSP Definition\n",
    "\n",
    "There are several intersecting parts to a DMSSP definition, so, for this tutorial, we have implemented the DMSSP definition for you in [grids_continuum.jl](https://github.com/sisl/CMSSPs.jl/blob/master/src/domains/grids_continuum/grids_continuum.jl). Feel free to review it before proceeding with this notebook, but it won't be necessary. One thing worth noting is the definition of the inter-modal transition rules, through a [Tabular MDP](https://github.com/JuliaPOMDP/POMDPModels.jl/blob/master/src/Tabular.jl) model (see the `get_grids_continuum_mdp()` method).\n",
    "\n",
    "## Generating Local Layer Policies\n",
    "\n",
    "With the DMSSP model defined, the next major step is the pre-processing to generate the control policies for the local layer of the planning framework. As mentioned in the README, the general local layer logic is implemented in [local_layer.jl](https://github.com/sisl/CMSSPs.jl/blob/master/src/hhpc/local_layer.jl). This logic works with the domain-specific definitions we have implemented already.\n",
    "For our toy example, the 4 grid worlds will share the same underlying continuum world dynamics, and so the control policy needs to only be solved for once, after which it can be shared. The next few code snippets will demonstrate how to do so. The code is also available as a [single script](https://github.com/sisl/CMSSPs.jl/blob/master/scripts/grids_continuum/grids_continuum_policies.jl)."
   ]
  },
  {
   "cell_type": "code",
   "execution_count": 1,
   "metadata": {},
   "outputs": [
    {
     "name": "stderr",
     "output_type": "stream",
     "text": [
      "┌ Info: Recompiling stale cache file /Users/shushmanchoudhury/.julia/compiled/v1.0/GridInterpolations/7sRrY.ji for GridInterpolations [bb4c363b-b914-514b-8517-4eb369bc008a]\n",
      "└ @ Base loading.jl:1184\n",
      "┌ Info: Recompiling stale cache file /Users/shushmanchoudhury/.julia/compiled/v1.0/LocalFunctionApproximation/X3EwC.ji for LocalFunctionApproximation [db97f5ab-fc25-52dd-a8f9-02a257c35074]\n",
      "└ @ Base loading.jl:1184\n",
      "┌ Info: Recompiling stale cache file /Users/shushmanchoudhury/.julia/compiled/v1.0/JLD2/O1EyT.ji for JLD2 [033835bb-8acc-5ee8-8aae-3f567f8a3819]\n",
      "└ @ Base loading.jl:1184\n",
      "┌ Info: Recompiling stale cache file /Users/shushmanchoudhury/.julia/compiled/v1.0/ContinuumWorld/bidme.ji for ContinuumWorld [5cbb95a3-277b-5373-895a-7e14bd91b3cc]\n",
      "└ @ Base loading.jl:1184\n",
      "WARNING: Method definition GridWorld(Any...) in module POMDPModels at deprecated.jl:29 overwritten at deprecated.jl:53.\n",
      "WARNING: Method definition isnan(StaticArrays.StaticArray{S, T, N} where N where T where S<:Tuple) in module FixedSizeArraysWillBeRemoved at /Users/shushmanchoudhury/.julia/packages/StaticArrays/VyRz3/src/FixedSizeArrays.jl:63 overwritten in module FixedSizeArrays at /Users/shushmanchoudhury/.julia/packages/GeometryTypes/ETYtg/src/FixedSizeArrays.jl:154.\n",
      "WARNING: Method definition extrema(AbstractArray{T<:(StaticArrays.StaticArray{Tuple{N}, T, 1} where T where N), 1}) where {T<:(StaticArrays.StaticArray{Tuple{N}, T, 1} where T where N)} in module FixedSizeArraysWillBeRemoved at /Users/shushmanchoudhury/.julia/packages/StaticArrays/VyRz3/src/FixedSizeArrays.jl:80 overwritten in module FixedSizeArrays at /Users/shushmanchoudhury/.julia/packages/GeometryTypes/ETYtg/src/FixedSizeArrays.jl:169.\n",
      "WARNING: Method definition minimum(AbstractArray{T<:(StaticArrays.StaticArray{Tuple{N}, T, 1} where T where N), 1}) where {T<:(StaticArrays.StaticArray{Tuple{N}, T, 1} where T where N)} in module FixedSizeArraysWillBeRemoved at /Users/shushmanchoudhury/.julia/packages/StaticArrays/VyRz3/src/FixedSizeArrays.jl:84 overwritten in module FixedSizeArrays at /Users/shushmanchoudhury/.julia/packages/GeometryTypes/ETYtg/src/FixedSizeArrays.jl:173.\n",
      "WARNING: Method definition maximum(AbstractArray{T<:(StaticArrays.StaticArray{Tuple{N}, T, 1} where T where N), 1}) where {T<:(StaticArrays.StaticArray{Tuple{N}, T, 1} where T where N)} in module FixedSizeArraysWillBeRemoved at /Users/shushmanchoudhury/.julia/packages/StaticArrays/VyRz3/src/FixedSizeArrays.jl:87 overwritten in module FixedSizeArrays at /Users/shushmanchoudhury/.julia/packages/GeometryTypes/ETYtg/src/FixedSizeArrays.jl:176.\n",
      "WARNING: Method definition extrema(AbstractArray{T<:(StaticArrays.StaticArray{Tuple{N}, T, 1} where T where N), 1}) where {T<:(StaticArrays.StaticArray{Tuple{N}, T, 1} where T where N)} in module FixedSizeArraysWillBeRemoved at /Users/shushmanchoudhury/.julia/packages/StaticArrays/VyRz3/src/FixedSizeArrays.jl:80 overwritten in module FixedSizeArrays at /Users/shushmanchoudhury/.julia/packages/GeometryTypes/ETYtg/src/FixedSizeArrays.jl:169.\n",
      "WARNING: Method definition minimum(AbstractArray{T<:(StaticArrays.StaticArray{Tuple{N}, T, 1} where T where N), 1}) where {T<:(StaticArrays.StaticArray{Tuple{N}, T, 1} where T where N)} in module FixedSizeArraysWillBeRemoved at /Users/shushmanchoudhury/.julia/packages/StaticArrays/VyRz3/src/FixedSizeArrays.jl:84 overwritten in module FixedSizeArrays at /Users/shushmanchoudhury/.julia/packages/GeometryTypes/ETYtg/src/FixedSizeArrays.jl:173.\n",
      "WARNING: Method definition isnan(StaticArrays.StaticArray{S, T, N} where N where T where S<:Tuple) in module FixedSizeArraysWillBeRemoved at /Users/shushmanchoudhury/.julia/packages/StaticArrays/VyRz3/src/FixedSizeArrays.jl:63 overwritten in module FixedSizeArrays at /Users/shushmanchoudhury/.julia/packages/GeometryTypes/ETYtg/src/FixedSizeArrays.jl:154.\n",
      "WARNING: Method definition maximum(AbstractArray{T<:(StaticArrays.StaticArray{Tuple{N}, T, 1} where T where N), 1}) where {T<:(StaticArrays.StaticArray{Tuple{N}, T, 1} where T where N)} in module FixedSizeArraysWillBeRemoved at /Users/shushmanchoudhury/.julia/packages/StaticArrays/VyRz3/src/FixedSizeArrays.jl:87 overwritten in module FixedSizeArrays at /Users/shushmanchoudhury/.julia/packages/GeometryTypes/ETYtg/src/FixedSizeArrays.jl:176.\n",
      "WARNING: Method definition extrema(AbstractArray{T<:(StaticArrays.StaticArray{Tuple{N}, T, 1} where T where N), 1}) where {T<:(StaticArrays.StaticArray{Tuple{N}, T, 1} where T where N)} in module FixedSizeArraysWillBeRemoved at /Users/shushmanchoudhury/.julia/packages/StaticArrays/VyRz3/src/FixedSizeArrays.jl:80 overwritten in module FixedSizeArrays at /Users/shushmanchoudhury/.julia/packages/GeometryTypes/ETYtg/src/FixedSizeArrays.jl:169.\n",
      "WARNING: Method definition minimum(AbstractArray{T<:(StaticArrays.StaticArray{Tuple{N}, T, 1} where T where N), 1}) where {T<:(StaticArrays.StaticArray{Tuple{N}, T, 1} where T where N)} in module FixedSizeArraysWillBeRemoved at /Users/shushmanchoudhury/.julia/packages/StaticArrays/VyRz3/src/FixedSizeArrays.jl:84 overwritten in module FixedSizeArrays at /Users/shushmanchoudhury/.julia/packages/GeometryTypes/ETYtg/src/FixedSizeArrays.jl:173.\n",
      "WARNING: Method definition isnan(StaticArrays.StaticArray{S, T, N} where N where T where S<:Tuple) in module FixedSizeArraysWillBeRemoved at /Users/shushmanchoudhury/.julia/packages/StaticArrays/VyRz3/src/FixedSizeArrays.jl:63 overwritten in module FixedSizeArrays at /Users/shushmanchoudhury/.julia/packages/GeometryTypes/ETYtg/src/FixedSizeArrays.jl:154.\n",
      "WARNING: Method definition maximum(AbstractArray{T<:(StaticArrays.StaticArray{Tuple{N}, T, 1} where T where N), 1}) where {T<:(StaticArrays.StaticArray{Tuple{N}, T, 1} where T where N)} in module FixedSizeArraysWillBeRemoved at /Users/shushmanchoudhury/.julia/packages/StaticArrays/VyRz3/src/FixedSizeArrays.jl:87 overwritten in module FixedSizeArrays at /Users/shushmanchoudhury/.julia/packages/GeometryTypes/ETYtg/src/FixedSizeArrays.jl:176.\n",
      "┌ Info: Recompiling stale cache file /Users/shushmanchoudhury/.julia/compiled/v1.0/CMSSPs/hr8Mt.ji for CMSSPs [eb9e90fe-355c-11e9-2c04-91cd8710bc84]\n",
      "└ @ Base loading.jl:1184\n",
      "WARNING: Method definition extrema(AbstractArray{T<:(StaticArrays.StaticArray{Tuple{N}, T, 1} where T where N), 1}) where {T<:(StaticArrays.StaticArray{Tuple{N}, T, 1} where T where N)} in module FixedSizeArraysWillBeRemoved at /Users/shushmanchoudhury/.julia/packages/StaticArrays/VyRz3/src/FixedSizeArrays.jl:80 overwritten in module FixedSizeArrays at /Users/shushmanchoudhury/.julia/packages/GeometryTypes/ETYtg/src/FixedSizeArrays.jl:169.\n",
      "WARNING: Method definition minimum(AbstractArray{T<:(StaticArrays.StaticArray{Tuple{N}, T, 1} where T where N), 1}) where {T<:(StaticArrays.StaticArray{Tuple{N}, T, 1} where T where N)} in module FixedSizeArraysWillBeRemoved at /Users/shushmanchoudhury/.julia/packages/StaticArrays/VyRz3/src/FixedSizeArrays.jl:84 overwritten in module FixedSizeArrays at /Users/shushmanchoudhury/.julia/packages/GeometryTypes/ETYtg/src/FixedSizeArrays.jl:173.\n",
      "WARNING: Method definition isnan(StaticArrays.StaticArray{S, T, N} where N where T where S<:Tuple) in module FixedSizeArraysWillBeRemoved at /Users/shushmanchoudhury/.julia/packages/StaticArrays/VyRz3/src/FixedSizeArrays.jl:63 overwritten in module FixedSizeArrays at /Users/shushmanchoudhury/.julia/packages/GeometryTypes/ETYtg/src/FixedSizeArrays.jl:154.\n",
      "WARNING: Method definition maximum(AbstractArray{T<:(StaticArrays.StaticArray{Tuple{N}, T, 1} where T where N), 1}) where {T<:(StaticArrays.StaticArray{Tuple{N}, T, 1} where T where N)} in module FixedSizeArraysWillBeRemoved at /Users/shushmanchoudhury/.julia/packages/StaticArrays/VyRz3/src/FixedSizeArrays.jl:87 overwritten in module FixedSizeArrays at /Users/shushmanchoudhury/.julia/packages/GeometryTypes/ETYtg/src/FixedSizeArrays.jl:176.\n",
      "WARNING: Method definition zero(Any) in module CMSSPDomains at /Users/shushmanchoudhury/.julia/dev/CMSSPs/src/domains/grids_continuum/grids_continuum.jl:63 overwritten at /Users/shushmanchoudhury/.julia/dev/CMSSPs/src/domains/grids_continuum/grids_continuum.jl:68.\n"
     ]
    }
   ],
   "source": [
    "## Load a bunch of helper packages needed for the local layer script\n",
    "using GridInterpolations # For approximating the value function locally\n",
    "using LocalFunctionApproximation # The wrapper around GridInterpolation needed by the value iteration solver\n",
    "using StaticArrays\n",
    "using JLD2, FileIO\n",
    "using Random\n",
    "using ContinuumWorld # To define the underlying continuum grid world models\n",
    "using CMSSPs # Our library"
   ]
  },
  {
   "cell_type": "code",
   "execution_count": 2,
   "metadata": {},
   "outputs": [],
   "source": [
    "## Set up the continuum world after reading in the problem parameters\n",
    "rng = MersenneTwister(10) # For reproducing\n",
    "\n",
    "params_fn = \"../scripts/grids_continuum/grids-continuum-params1.toml\" # File comments describe parameters\n",
    "params = continuum_parse_params(params_fn) # Create a struct of params that is passed around\n",
    "\n",
    "# Create the possible control (movement) actions for the agent in the Continuum World\n",
    "grid_cworld_actions = [Vec2(params.move_amt, 0.0), Vec2(-params.move_amt, 0.0),\n",
    "                       Vec2(0.0, params.move_amt), Vec2(0.0, -params.move_amt), Vec2(0.0, 0.0)]\n",
    "\n",
    "# Define the Continuum World that will be the local layer MDP\n",
    "# No rewards, undiscounted\n",
    "cworld = CWorld(xlim = (0.0, 1.0), ylim = (0.0, 1.0),\n",
    "                reward_regions = [], rewards = [], terminal = [],\n",
    "                stdev = params.move_std, actions = grid_cworld_actions, discount = 1.0)\n",
    "\n",
    "# Use the same CWorld for all 4 modes\n",
    "cworlds = Dict(1=>cworld, 2=>cworld, 3=>cworld, 4=>cworld)\n",
    "params.cworlds = cworlds\n",
    "\n",
    "# Only need to find policy for one mode, since shared across modes\n",
    "modal_mdp = GridsContinuumMDPType(1, params, grid_cworld_actions, params.beta, params.horizon_limit);"
   ]
  },
  {
   "cell_type": "code",
   "execution_count": 3,
   "metadata": {},
   "outputs": [],
   "source": [
    "## Create the interpolator to be used for value function approximation\n",
    "xy_spacing = polyspace_symmetric(1.0, params.vals_along_axis, 3)\n",
    "xy_grid = RectangleGrid(xy_spacing, xy_spacing)\n",
    "lfa = LocalGIFunctionApproximator(xy_grid);"
   ]
  },
  {
   "cell_type": "code",
   "execution_count": 4,
   "metadata": {},
   "outputs": [
    {
     "name": "stdout",
     "output_type": "stream",
     "text": [
      "max_contr_cost = 0.09179802036198285\n",
      "[Iteration "
     ]
    },
    {
     "name": "stderr",
     "output_type": "stream",
     "text": [
      "┌ Info: Getting max control cost\n",
      "└ @ CMSSPs.HHPC /Users/shushmanchoudhury/.julia/dev/CMSSPs/src/hhpc/local_layer.jl:188\n"
     ]
    },
    {
     "name": "stdout",
     "output_type": "stream",
     "text": [
      "1   ] residual:       3.15 | iteration runtime:   5462.287 ms, (      5.46 s total)\n",
      "[Iteration 1   ] residual:       7.46 | iteration runtime:   5460.957 ms, (      5.46 s total)\n"
     ]
    }
   ],
   "source": [
    "# Compute and update the terminal cost\n",
    "compute_terminalcost_localapprox!(modal_mdp, lfa)\n",
    "\n",
    "# Compute policy with localApproxVI\n",
    "# There will be one iteration for out-of-horizon and one for in-horizon\n",
    "modal_policy = finite_horizon_VI_localapprox!(modal_mdp, lfa, true,\n",
    "                                              params.num_generative_samples, rng)\n",
    "\n",
    "# Compute min_cost_per_horizon\n",
    "compute_min_value_per_horizon_localapprox!(modal_policy)\n",
    "\n",
    "# Save horizon policy to file\n",
    "inhor_fn = \"grids-continuum-params1-inhor.jld2\"\n",
    "outhor_fn = \"grids-continuum-params1-outhor.jld2\"\n",
    "save_modal_horizon_policy_localapprox(modal_policy, inhor_fn,outhor_fn, modal_mdp)"
   ]
  },
  {
   "cell_type": "markdown",
   "metadata": {},
   "source": [
    "Now you have two JLD2 files which encode the in-horizon and out-of-horizon policies for the continuum world. These are the results of the local pre-processing step. Now we can actually run the HSP solver on the full problem.\n",
    "\n",
    "## Running the Solver\n",
    "\n",
    "We will now briefly demonstrate how to use the HSP solver to solve DMSSP problems. The general domain-agnostic solver logic is defined in [hhpc_framework.jl](https://github.com/sisl/CMSSPs.jl/blob/master/src/hhpc/hhpc_framework.jl); it uses both the global planning layer from [global_layer.jl](https://github.com/sisl/CMSSPs.jl/blob/master/src/hhpc/global_layer.jl) and the policies obtained from local pre-processing. As before, all the code below is availaible in a [single script](https://github.com/sisl/CMSSPs.jl/blob/master/scripts/grids_continuum/grids_continuum_simulator.jl). Whenever the agent makes a successful mode switch to grid 4, it has succeeded and the episode terminates."
   ]
  },
  {
   "cell_type": "code",
   "execution_count": 5,
   "metadata": {},
   "outputs": [],
   "source": [
    "rng = MersenneTwister(1234) # Different seed for simulation\n",
    "const TRIALS = 5 # Total number of episodes to try\n",
    "\n",
    "# Load the policies\n",
    "inhor_fn = \"grids-continuum-params1-inhor.jld2\"\n",
    "outhor_fn = \"grids-continuum-params1-outhor.jld2\"\n",
    "modal_horizon_policy = load_modal_horizon_policy_localapprox(inhor_fn, outhor_fn)\n",
    "\n",
    "# Create a dictionary of modal MDPs and policies - all share the same\n",
    "modal_policies = Dict{Int64, ModalFinInfHorPolicy}()\n",
    "modal_mdps = Dict{Int64, GridsContinuumMDPType}()\n",
    "for m in CONTINUUM_MODES\n",
    "    global modal_policies\n",
    "    global modal_mdps\n",
    "    modal_policies[m] = ModalFinInfHorPolicy(modal_horizon_policy, nothing)\n",
    "    modal_mdps[m] = modal_horizon_policy.in_horizon_policy.mdp\n",
    "end\n",
    "\n",
    "# Define the params struct and the dmssp problem object\n",
    "params = modal_horizon_policy.in_horizon_policy.mdp.params\n",
    "cmssp = create_continuum_cmssp(params, rng)\n",
    "\n",
    "# Other parameters required by the solver - the replanning period (in terms of timesteps) and the goal modes\n",
    "deltaT = 5\n",
    "goal_modes = [CONTINUUM_GOAL_MODE];"
   ]
  },
  {
   "cell_type": "code",
   "execution_count": 6,
   "metadata": {},
   "outputs": [
    {
     "name": "stderr",
     "output_type": "stream",
     "text": [
      "┌ Info: Generating start state and context\n",
      "└ @ Main In[6]:7\n",
      "┌ Info: Creating solver\n",
      "└ @ Main In[6]:13\n",
      "┌ Info: (\"Successful mode switch to grid \", 3)\n",
      "└ @ CMSSPs.CMSSPDomains /Users/shushmanchoudhury/.julia/dev/CMSSPs/src/domains/grids_continuum/grids_continuum.jl:441\n",
      "┌ Info: (\"Successful mode switch to grid \", 4)\n",
      "└ @ CMSSPs.CMSSPDomains /Users/shushmanchoudhury/.julia/dev/CMSSPs/src/domains/grids_continuum/grids_continuum.jl:441\n",
      "┌ Info: Generating start state and context\n",
      "└ @ Main In[6]:7\n",
      "┌ Info: Creating solver\n",
      "└ @ Main In[6]:13\n",
      "┌ Info: (\"Successful mode switch to grid \", 2)\n",
      "└ @ CMSSPs.CMSSPDomains /Users/shushmanchoudhury/.julia/dev/CMSSPs/src/domains/grids_continuum/grids_continuum.jl:441\n",
      "┌ Info: (\"Mode switch to grid \", 4, \"failed \")\n",
      "└ @ CMSSPs.CMSSPDomains /Users/shushmanchoudhury/.julia/dev/CMSSPs/src/domains/grids_continuum/grids_continuum.jl:445\n",
      "┌ Info: (\"Mode switch to grid \", 4, \"failed \")\n",
      "└ @ CMSSPs.CMSSPDomains /Users/shushmanchoudhury/.julia/dev/CMSSPs/src/domains/grids_continuum/grids_continuum.jl:445\n",
      "┌ Info: (\"Mode switch to grid \", 4, \"failed \")\n",
      "└ @ CMSSPs.CMSSPDomains /Users/shushmanchoudhury/.julia/dev/CMSSPs/src/domains/grids_continuum/grids_continuum.jl:445\n",
      "┌ Info: (\"Successful mode switch to grid \", 4)\n",
      "└ @ CMSSPs.CMSSPDomains /Users/shushmanchoudhury/.julia/dev/CMSSPs/src/domains/grids_continuum/grids_continuum.jl:441\n",
      "┌ Info: Generating start state and context\n",
      "└ @ Main In[6]:7\n",
      "┌ Info: Creating solver\n",
      "└ @ Main In[6]:13\n",
      "┌ Info: (\"Mode switch to grid \", 3, \"failed \")\n",
      "└ @ CMSSPs.CMSSPDomains /Users/shushmanchoudhury/.julia/dev/CMSSPs/src/domains/grids_continuum/grids_continuum.jl:445\n",
      "┌ Info: (\"Successful mode switch to grid \", 3)\n",
      "└ @ CMSSPs.CMSSPDomains /Users/shushmanchoudhury/.julia/dev/CMSSPs/src/domains/grids_continuum/grids_continuum.jl:441\n",
      "┌ Info: (\"Mode switch to grid \", 4, \"failed \")\n",
      "└ @ CMSSPs.CMSSPDomains /Users/shushmanchoudhury/.julia/dev/CMSSPs/src/domains/grids_continuum/grids_continuum.jl:445\n",
      "┌ Info: (\"Successful mode switch to grid \", 4)\n",
      "└ @ CMSSPs.CMSSPDomains /Users/shushmanchoudhury/.julia/dev/CMSSPs/src/domains/grids_continuum/grids_continuum.jl:441\n",
      "┌ Info: Generating start state and context\n",
      "└ @ Main In[6]:7\n",
      "┌ Info: Creating solver\n",
      "└ @ Main In[6]:13\n",
      "┌ Info: (\"Successful mode switch to grid \", 3)\n",
      "└ @ CMSSPs.CMSSPDomains /Users/shushmanchoudhury/.julia/dev/CMSSPs/src/domains/grids_continuum/grids_continuum.jl:441\n",
      "┌ Info: (\"Mode switch to grid \", 4, \"failed \")\n",
      "└ @ CMSSPs.CMSSPDomains /Users/shushmanchoudhury/.julia/dev/CMSSPs/src/domains/grids_continuum/grids_continuum.jl:445\n",
      "┌ Info: (\"Successful mode switch to grid \", 4)\n",
      "└ @ CMSSPs.CMSSPDomains /Users/shushmanchoudhury/.julia/dev/CMSSPs/src/domains/grids_continuum/grids_continuum.jl:441\n",
      "┌ Info: Generating start state and context\n",
      "└ @ Main In[6]:7\n",
      "┌ Info: Creating solver\n",
      "└ @ Main In[6]:13\n",
      "┌ Info: (\"Successful mode switch to grid \", 3)\n",
      "└ @ CMSSPs.CMSSPDomains /Users/shushmanchoudhury/.julia/dev/CMSSPs/src/domains/grids_continuum/grids_continuum.jl:441\n",
      "┌ Info: (\"Mode switch to grid \", 4, \"failed \")\n",
      "└ @ CMSSPs.CMSSPDomains /Users/shushmanchoudhury/.julia/dev/CMSSPs/src/domains/grids_continuum/grids_continuum.jl:445\n",
      "┌ Info: (\"Successful mode switch to grid \", 4)\n",
      "└ @ CMSSPs.CMSSPDomains /Users/shushmanchoudhury/.julia/dev/CMSSPs/src/domains/grids_continuum/grids_continuum.jl:441\n"
     ]
    }
   ],
   "source": [
    "# Need to additionally import POMDPs directly to use solve\n",
    "using POMDPs\n",
    "\n",
    "# Now run the solver on several different episodes for TRIALS number of times\n",
    "for trial = 1:TRIALS\n",
    "\n",
    "    @info \"Generating start state and context\"\n",
    "    start_state = generate_start_state(cmssp, rng)\n",
    "    set_start_context_set!(cmssp, rng)\n",
    "\n",
    "    @debug start_state\n",
    "\n",
    "    @info \"Creating solver\"\n",
    "    continuum_solver = GridsContinuumSolverType{typeof(rng)}(params.num_bridge_samples,\n",
    "                                                modal_policies,\n",
    "                                                deltaT,\n",
    "                                                goal_modes,\n",
    "                                                start_state,\n",
    "                                                zero(ContinuumDummyBookkeeping),\n",
    "                                                rng)\n",
    "\n",
    "    solve(continuum_solver, cmssp)\n",
    "end "
   ]
  }
 ],
 "metadata": {
  "@webio": {
   "lastCommId": null,
   "lastKernelId": null
  },
  "kernelspec": {
   "display_name": "Julia 1.0.0",
   "language": "julia",
   "name": "julia-1.0"
  },
  "language_info": {
   "file_extension": ".jl",
   "mimetype": "application/julia",
   "name": "julia",
   "version": "1.0.0"
  }
 },
 "nbformat": 4,
 "nbformat_minor": 2
}
